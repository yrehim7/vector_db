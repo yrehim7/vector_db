{
 "cells": [
  {
   "cell_type": "code",
   "execution_count": 1,
   "metadata": {},
   "outputs": [],
   "source": [
    "import pinecone as pc\n",
    "import faiss\n",
    "import numpy as np\n",
    "from sentence_transformers import SentenceTransformer"
   ]
  },
  {
   "cell_type": "code",
   "execution_count": 2,
   "metadata": {},
   "outputs": [],
   "source": [
    "# use a pre-trained model\n",
    "model = SentenceTransformer('all-MiniLM-L6-v2')"
   ]
  },
  {
   "cell_type": "code",
   "execution_count": 3,
   "metadata": {},
   "outputs": [
    {
     "name": "stdout",
     "output_type": "stream",
     "text": [
      "(8, 384)\n"
     ]
    }
   ],
   "source": [
    "documents = [\n",
    "    \"Legal contract about property rights\",\n",
    "    \"Court ruling on employment disputes\",\n",
    "    \"Patent law regarding intellectual property\",\n",
    "    \"Legal framework for data protection\",\n",
    "    \"Regulations on financial transactions\",\n",
    "    \"Guidelines for corporate governance\",\n",
    "    \"International treaties on trade agreements\",\n",
    "    \"Legislation on environmental protection\"\n",
    "]\n",
    "\n",
    "# converting documents into vectors\n",
    "vectors = model.encode(documents)\n",
    "\n",
    "print(vectors.shape)  # (4, 384) -> 4 documents, each ??-dimensional"
   ]
  },
  {
   "cell_type": "code",
   "execution_count": 4,
   "metadata": {},
   "outputs": [],
   "source": [
    "# Define vector dimension\n",
    "dimension = 384\n",
    "index = faiss.IndexFlatL2(dimension)  # L2 distance (Euclidean)"
   ]
  },
  {
   "cell_type": "code",
   "execution_count": 5,
   "metadata": {},
   "outputs": [
    {
     "name": "stdout",
     "output_type": "stream",
     "text": [
      "Stored vectors in FAISS.\n"
     ]
    }
   ],
   "source": [
    "index.add(np.array(vectors))  # Add all vectors\n",
    "faiss.write_index(index, \"legal_search.index\")  # Save for later\n",
    "print(\"Stored vectors in FAISS.\")"
   ]
  },
  {
   "cell_type": "code",
   "execution_count": 6,
   "metadata": {},
   "outputs": [],
   "source": [
    "query = model.encode([\"Employment law for contracts\"])  # Convert query to vector"
   ]
  },
  {
   "cell_type": "code",
   "execution_count": 7,
   "metadata": {},
   "outputs": [
    {
     "name": "stdout",
     "output_type": "stream",
     "text": [
      "Most relevant documents:\n",
      "Court ruling on employment disputes\n"
     ]
    }
   ],
   "source": [
    "D, I = index.search(np.array(query), k=1)  # Find top 2 similar documents\n",
    "\n",
    "print(\"Most relevant documents:\")\n",
    "for idx in I[0]:\n",
    "    print(documents[idx])  # Show matched document"
   ]
  },
  {
   "cell_type": "code",
   "execution_count": null,
   "metadata": {},
   "outputs": [],
   "source": []
  }
 ],
 "metadata": {
  "kernelspec": {
   "display_name": "Python 3",
   "language": "python",
   "name": "python3"
  },
  "language_info": {
   "codemirror_mode": {
    "name": "ipython",
    "version": 3
   },
   "file_extension": ".py",
   "mimetype": "text/x-python",
   "name": "python",
   "nbconvert_exporter": "python",
   "pygments_lexer": "ipython3",
   "version": "3.12.3"
  }
 },
 "nbformat": 4,
 "nbformat_minor": 2
}
