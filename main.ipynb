{
 "cells": [
  {
   "cell_type": "code",
   "execution_count": 4,
   "metadata": {},
   "outputs": [],
   "source": [
    "import faiss\n",
    "import numpy as np\n",
    "from sentence_transformers import SentenceTransformer"
   ]
  },
  {
   "cell_type": "code",
   "execution_count": 5,
   "metadata": {},
   "outputs": [],
   "source": [
    "# use a pre-trained model\n",
    "model = SentenceTransformer('all-MiniLM-L6-v2')"
   ]
  },
  {
   "cell_type": "code",
   "execution_count": 6,
   "metadata": {},
   "outputs": [
    {
     "name": "stdout",
     "output_type": "stream",
     "text": [
      "(4, 384)\n"
     ]
    }
   ],
   "source": [
    "documents = [\n",
    "    \"Legal contract about property rights\",\n",
    "    \"Court ruling on employment disputes\",\n",
    "    \"Patent law regarding intellectual property\",\n",
    "    \"Legal framework for data protection\"\n",
    "]\n",
    "\n",
    "# Convert documents into vectors\n",
    "vectors = model.encode(documents)\n",
    "\n",
    "print(vectors.shape)  # (4, 384) -> 4 documents, each ??-dimensional"
   ]
  },
  {
   "cell_type": "code",
   "execution_count": 7,
   "metadata": {},
   "outputs": [],
   "source": [
    "import faiss\n",
    "import numpy as np"
   ]
  },
  {
   "cell_type": "code",
   "execution_count": 8,
   "metadata": {},
   "outputs": [],
   "source": [
    "# Define vector dimension\n",
    "dimension = 384\n",
    "index = faiss.IndexFlatL2(dimension)  # L2 distance (Euclidean)"
   ]
  },
  {
   "cell_type": "code",
   "execution_count": 9,
   "metadata": {},
   "outputs": [
    {
     "name": "stdout",
     "output_type": "stream",
     "text": [
      "Stored vectors in FAISS.\n"
     ]
    }
   ],
   "source": [
    "index.add(np.array(vectors))  # Add all vectors\n",
    "faiss.write_index(index, \"legal_search.index\")  # Save for later\n",
    "print(\"Stored vectors in FAISS.\")"
   ]
  },
  {
   "cell_type": "code",
   "execution_count": 10,
   "metadata": {},
   "outputs": [],
   "source": [
    "query = model.encode([\"Employment law for contracts\"])  # Convert query to vector"
   ]
  },
  {
   "cell_type": "code",
   "execution_count": 11,
   "metadata": {},
   "outputs": [
    {
     "name": "stdout",
     "output_type": "stream",
     "text": [
      "Most relevant documents:\n",
      "Court ruling on employment disputes\n",
      "Legal contract about property rights\n"
     ]
    }
   ],
   "source": [
    "D, I = index.search(np.array(query), k=2)  # Find top 2 similar documents\n",
    "\n",
    "print(\"Most relevant documents:\")\n",
    "for idx in I[0]:\n",
    "    print(documents[idx])  # Show matched document"
   ]
  },
  {
   "cell_type": "code",
   "execution_count": 12,
   "metadata": {},
   "outputs": [],
   "source": [
    "import os\n",
    "from pinecone import Pinecone, ServerlessSpec"
   ]
  },
  {
   "cell_type": "code",
   "execution_count": null,
   "metadata": {},
   "outputs": [
    {
     "ename": "AttributeError",
     "evalue": "type object 'Pinecone' has no attribute 'init'",
     "output_type": "error",
     "traceback": [
      "\u001b[1;31m---------------------------------------------------------------------------\u001b[0m",
      "\u001b[1;31mAttributeError\u001b[0m                            Traceback (most recent call last)",
      "Cell \u001b[1;32mIn[25], line 2\u001b[0m\n\u001b[0;32m      1\u001b[0m \u001b[38;5;66;03m# Initialize Pinecone\u001b[39;00m\n\u001b[1;32m----> 2\u001b[0m \u001b[43mPinecone\u001b[49m\u001b[38;5;241;43m.\u001b[39;49m\u001b[43minit\u001b[49m(api_key\u001b[38;5;241m=\u001b[39m\u001b[38;5;124m\"\u001b[39m\u001b[38;5;124mpcsk_3iqMXP_N9sG7eSXJeS7xbqnq6LtuMFwLTdEkwB6Y64J6mgAfv8VJhbRj9yx89J8bchyL6i\u001b[39m\u001b[38;5;124m\"\u001b[39m, environment\u001b[38;5;241m=\u001b[39m\u001b[38;5;124m\"\u001b[39m\u001b[38;5;124mus-west1-gcp\u001b[39m\u001b[38;5;124m\"\u001b[39m),\n\u001b[0;32m      3\u001b[0m index_name \u001b[38;5;241m=\u001b[39m \u001b[38;5;124m\"\u001b[39m\u001b[38;5;124mlegal_search\u001b[39m\u001b[38;5;124m\"\u001b[39m\n\u001b[0;32m      5\u001b[0m \u001b[38;5;66;03m# Create index if it doesn't exist\u001b[39;00m\n",
      "\u001b[1;31mAttributeError\u001b[0m: type object 'Pinecone' has no attribute 'init'"
     ]
    }
   ],
   "source": [
    "# Initialize Pinecone\n",
    "Pinecone.init(api_key=\"pcsk_3iqMXP_N9sG7eSXJeS7xbqnq6LtuMFwLTdEkwB6Y64J6mgAfv8VJhbRj9yx89J8bchyL6i\", environment=\"us-west1-gcp\")\n",
    "index_name = \"legal_search\"\n",
    "\n",
    "# Create index if it doesn't exist\n",
    "if index_name not in Pinecone.list_indexes():\n",
    "    Pinecone.create_index(index_name, dimension=384, metric=\"cosine\")\n",
    "\n",
    "index = Pinecone.Index(index_name)"
   ]
  }
 ],
 "metadata": {
  "kernelspec": {
   "display_name": "Python 3",
   "language": "python",
   "name": "python3"
  },
  "language_info": {
   "codemirror_mode": {
    "name": "ipython",
    "version": 3
   },
   "file_extension": ".py",
   "mimetype": "text/x-python",
   "name": "python",
   "nbconvert_exporter": "python",
   "pygments_lexer": "ipython3",
   "version": "3.12.3"
  }
 },
 "nbformat": 4,
 "nbformat_minor": 2
}
